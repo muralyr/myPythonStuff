{
 "cells": [
  {
   "cell_type": "code",
   "execution_count": 2,
   "id": "30b05e13",
   "metadata": {},
   "outputs": [
    {
     "name": "stdout",
     "output_type": "stream",
     "text": [
      "Good Evening\n"
     ]
    }
   ],
   "source": [
    "morning = False\n",
    "\n",
    "if morning:\n",
    "    print('Good Morning')\n",
    "else:\n",
    "    print('Good Evening')"
   ]
  },
  {
   "cell_type": "code",
   "execution_count": 4,
   "id": "554a2f97",
   "metadata": {},
   "outputs": [
    {
     "name": "stdout",
     "output_type": "stream",
     "text": [
      "What time is it!\n"
     ]
    }
   ],
   "source": [
    "time = 'gibberish'\n",
    "\n",
    "if time == 'Morning':\n",
    "    print('Good Morning')\n",
    "elif time == 'Afternonn':\n",
    "    print(\"Godd Afternoon\")\n",
    "elif time == 'Evening':\n",
    "    print('Good Evening')\n",
    "else:\n",
    "    print(\"What time is it!\")"
   ]
  },
  {
   "cell_type": "code",
   "execution_count": 5,
   "id": "f6fdfafd",
   "metadata": {},
   "outputs": [
    {
     "name": "stdout",
     "output_type": "stream",
     "text": [
      "Number 1 is odd\n",
      "Number 2 is even\n",
      "Number 3 is odd\n",
      "Number 4 is even\n",
      "Number 5 is odd\n",
      "Number 6 is even\n",
      "Number 7 is odd\n",
      "Number 8 is even\n",
      "Number 9 is odd\n",
      "Number 10 is even\n"
     ]
    }
   ],
   "source": [
    "mylist = [1,2,3,4,5,6,7,8,9,10]\n",
    "\n",
    "for num in mylist:\n",
    "    if num % 2 == 0:\n",
    "        print(f'Number {num} is even')\n",
    "    else:\n",
    "        print(f'Number {num} is odd')"
   ]
  },
  {
   "cell_type": "code",
   "execution_count": 7,
   "id": "b3dc7a1a",
   "metadata": {},
   "outputs": [
    {
     "name": "stdout",
     "output_type": "stream",
     "text": [
      "2\n",
      "4\n",
      "6\n",
      "8\n",
      "10\n",
      "12\n",
      "14\n",
      "16\n",
      "18\n",
      "20\n"
     ]
    }
   ],
   "source": [
    "list_sum = 0\n",
    "\n",
    "for num_sum in mylist:\n",
    "    num_sum = num_sum + num_sum\n",
    "    \n",
    "    print(num_sum)"
   ]
  },
  {
   "cell_type": "code",
   "execution_count": 8,
   "id": "685c7113",
   "metadata": {},
   "outputs": [
    {
     "name": "stdout",
     "output_type": "stream",
     "text": [
      "Cool!\n",
      "Cool!\n",
      "Cool!\n",
      "Cool!\n",
      "Cool!\n",
      "Cool!\n",
      "Cool!\n",
      "Cool!\n",
      "Cool!\n",
      "Cool!\n",
      "Cool!\n"
     ]
    }
   ],
   "source": [
    "for _ in 'Hello World':\n",
    "    print(\"Cool!\")\n",
    "    "
   ]
  },
  {
   "cell_type": "code",
   "execution_count": 9,
   "id": "2e6de061",
   "metadata": {},
   "outputs": [
    {
     "data": {
      "text/plain": [
       "5"
      ]
     },
     "execution_count": 9,
     "metadata": {},
     "output_type": "execute_result"
    }
   ],
   "source": [
    "# tuple unpacking\n",
    "tup_list = [(1,2),(3,4),(5,6),(7,8),(9,10)]\n",
    "len(tup_list)"
   ]
  },
  {
   "cell_type": "code",
   "execution_count": 10,
   "id": "4b0b57eb",
   "metadata": {},
   "outputs": [
    {
     "name": "stdout",
     "output_type": "stream",
     "text": [
      "2\n",
      "1\n",
      "4\n",
      "3\n",
      "6\n",
      "5\n",
      "8\n",
      "7\n",
      "10\n",
      "9\n"
     ]
    }
   ],
   "source": [
    "for (a,b) in tup_list:\n",
    "    print(b)\n",
    "    print(a)"
   ]
  },
  {
   "cell_type": "code",
   "execution_count": 15,
   "id": "133a3b10",
   "metadata": {},
   "outputs": [
    {
     "name": "stdout",
     "output_type": "stream",
     "text": [
      "k1\n",
      "k2\n",
      "k3\n"
     ]
    }
   ],
   "source": [
    "d = {'k1':1,'k2':2,'k3':3}\n",
    "\n",
    "#for item in d:\n",
    "#for item in d.items():\n",
    "#for item in d.values():\n",
    "#    print(item)\n",
    "for k,v in d.items():\n",
    "    print(k)"
   ]
  },
  {
   "cell_type": "code",
   "execution_count": 17,
   "id": "c8c704bd",
   "metadata": {},
   "outputs": [
    {
     "name": "stdout",
     "output_type": "stream",
     "text": [
      "The current value of x is 1\n",
      "The current value of x is 2\n",
      "The current value of x is 4\n",
      "The current value of x is 8\n",
      "ELSE part\n"
     ]
    }
   ],
   "source": [
    "x = 1\n",
    "\n",
    "while x < 10:\n",
    "    print (f'The current value of x is {x}')\n",
    "    x *= 2\n",
    "else:\n",
    "    print('ELSE part')"
   ]
  },
  {
   "cell_type": "code",
   "execution_count": 18,
   "id": "26ee59de",
   "metadata": {},
   "outputs": [
    {
     "name": "stdout",
     "output_type": "stream",
     "text": [
      "letter\n"
     ]
    }
   ],
   "source": [
    "# Does nothing at all\n",
    "\n",
    "mystring ='letter'\n",
    "\n",
    "for s in mystring:\n",
    "    pass\n",
    "\n",
    "print(mystring)"
   ]
  },
  {
   "cell_type": "code",
   "execution_count": 19,
   "id": "decc0e54",
   "metadata": {},
   "outputs": [
    {
     "name": "stdout",
     "output_type": "stream",
     "text": [
      "l\n",
      "e\n",
      "e\n",
      "r\n"
     ]
    }
   ],
   "source": [
    "# Goes to the top of the closest enclosing loop\n",
    "for s in mystring:\n",
    "    if s == 't':\n",
    "        continue\n",
    "    print(s)\n",
    "    "
   ]
  },
  {
   "cell_type": "code",
   "execution_count": 21,
   "id": "96bcb324",
   "metadata": {},
   "outputs": [
    {
     "name": "stdout",
     "output_type": "stream",
     "text": [
      "l\n",
      "e\n"
     ]
    }
   ],
   "source": [
    "# break out of the closest enclosing loop\n",
    "for s in mystring:\n",
    "    if s == 't':\n",
    "        break\n",
    "    print(s)"
   ]
  },
  {
   "cell_type": "code",
   "execution_count": 23,
   "id": "6a75276e",
   "metadata": {},
   "outputs": [
    {
     "data": {
      "text/plain": [
       "[0, 2, 4, 6, 8, 10]"
      ]
     },
     "execution_count": 23,
     "metadata": {},
     "output_type": "execute_result"
    }
   ],
   "source": [
    "# range operator/generator\n",
    "myrange = list(range(0,11,2))\n",
    "myrange"
   ]
  },
  {
   "cell_type": "code",
   "execution_count": 24,
   "id": "910bea4b",
   "metadata": {},
   "outputs": [
    {
     "name": "stdout",
     "output_type": "stream",
     "text": [
      "In range of 0\n",
      "In range of 1\n",
      "In range of 2\n",
      "In range of 3\n",
      "In range of 4\n"
     ]
    }
   ],
   "source": [
    "for num in range(5):\n",
    "    print(f'In range of {num}')\n"
   ]
  },
  {
   "cell_type": "code",
   "execution_count": 27,
   "id": "d5ecb6e8",
   "metadata": {},
   "outputs": [
    {
     "name": "stdout",
     "output_type": "stream",
     "text": [
      "Letter at index 0 is a\n",
      "Letter at index 1 is b\n",
      "Letter at index 2 is c\n",
      "Letter at index 3 is d\n",
      "Letter at index 4 is e\n"
     ]
    }
   ],
   "source": [
    "# enumerate\n",
    "\n",
    "myword ='abcde'\n",
    "index_count = 0\n",
    "\n",
    "for letter in myword:\n",
    "    print('Letter at index {} is {}'.format(index_count,letter))\n",
    "    index_count += 1\n"
   ]
  },
  {
   "cell_type": "code",
   "execution_count": 29,
   "id": "c92d8e33",
   "metadata": {},
   "outputs": [
    {
     "name": "stdout",
     "output_type": "stream",
     "text": [
      "(0, 'a')\n",
      "(1, 'b')\n",
      "(2, 'c')\n",
      "(3, 'd')\n",
      "(4, 'e')\n"
     ]
    }
   ],
   "source": [
    "for tup_map in enumerate(myword):\n",
    "    print(tup_map)"
   ]
  },
  {
   "cell_type": "code",
   "execution_count": 30,
   "id": "963e769f",
   "metadata": {},
   "outputs": [
    {
     "name": "stdout",
     "output_type": "stream",
     "text": [
      "From enumerate tuple list, vlaue at index 0 is a\n",
      "From enumerate tuple list, vlaue at index 1 is b\n",
      "From enumerate tuple list, vlaue at index 2 is c\n",
      "From enumerate tuple list, vlaue at index 3 is d\n",
      "From enumerate tuple list, vlaue at index 4 is e\n"
     ]
    }
   ],
   "source": [
    "for index, value in enumerate(myword):\n",
    "    print('From enumerate tuple list, vlaue at index {} is {}'.format(index,value))"
   ]
  },
  {
   "cell_type": "code",
   "execution_count": 32,
   "id": "51defc00",
   "metadata": {},
   "outputs": [
    {
     "name": "stdout",
     "output_type": "stream",
     "text": [
      "(1, 'a', 100)\n",
      "(2, 'b', 200)\n",
      "(3, 'c', 300)\n"
     ]
    }
   ],
   "source": [
    "# zip\n",
    "mylist1 = [1,2,3,4,6,5]\n",
    "mylist2 = ['a','b','c']\n",
    "mylist3 = [100,200,300]\n",
    "\n",
    "for items in zip(mylist1,mylist2,mylist3):\n",
    "    print (items)"
   ]
  },
  {
   "cell_type": "code",
   "execution_count": 33,
   "id": "3d091ace",
   "metadata": {},
   "outputs": [
    {
     "data": {
      "text/plain": [
       "[(1, 'a'), (2, 'b'), (3, 'c')]"
      ]
     },
     "execution_count": 33,
     "metadata": {},
     "output_type": "execute_result"
    }
   ],
   "source": [
    "list(zip(mylist1,mylist2))"
   ]
  },
  {
   "cell_type": "code",
   "execution_count": 34,
   "id": "2b0a8d0b",
   "metadata": {},
   "outputs": [
    {
     "data": {
      "text/plain": [
       "False"
      ]
     },
     "execution_count": 34,
     "metadata": {},
     "output_type": "execute_result"
    }
   ],
   "source": [
    "d = {'k1':345}\n",
    "345 in d"
   ]
  },
  {
   "cell_type": "code",
   "execution_count": 35,
   "id": "e2d3952c",
   "metadata": {},
   "outputs": [
    {
     "data": {
      "text/plain": [
       "True"
      ]
     },
     "execution_count": 35,
     "metadata": {},
     "output_type": "execute_result"
    }
   ],
   "source": [
    "'k1' in d"
   ]
  },
  {
   "cell_type": "code",
   "execution_count": 36,
   "id": "0597b558",
   "metadata": {},
   "outputs": [
    {
     "data": {
      "text/plain": [
       "True"
      ]
     },
     "execution_count": 36,
     "metadata": {},
     "output_type": "execute_result"
    }
   ],
   "source": [
    "345 in d.values()"
   ]
  },
  {
   "cell_type": "code",
   "execution_count": 37,
   "id": "823f0fb6",
   "metadata": {},
   "outputs": [
    {
     "data": {
      "text/plain": [
       "False"
      ]
     },
     "execution_count": 37,
     "metadata": {},
     "output_type": "execute_result"
    }
   ],
   "source": [
    "345 in d.items()"
   ]
  },
  {
   "cell_type": "code",
   "execution_count": 38,
   "id": "8af09ff4",
   "metadata": {},
   "outputs": [
    {
     "data": {
      "text/plain": [
       "10"
      ]
     },
     "execution_count": 38,
     "metadata": {},
     "output_type": "execute_result"
    }
   ],
   "source": [
    "mylist = [10,20,30,100]\n",
    "min(mylist)"
   ]
  },
  {
   "cell_type": "code",
   "execution_count": 39,
   "id": "28d7c0d4",
   "metadata": {},
   "outputs": [
    {
     "data": {
      "text/plain": [
       "100"
      ]
     },
     "execution_count": 39,
     "metadata": {},
     "output_type": "execute_result"
    }
   ],
   "source": [
    "max(mylist)"
   ]
  },
  {
   "cell_type": "code",
   "execution_count": 40,
   "id": "d64711d7",
   "metadata": {},
   "outputs": [],
   "source": [
    "from random import shuffle\n",
    "shuffle(mylist)"
   ]
  },
  {
   "cell_type": "code",
   "execution_count": 41,
   "id": "dcbdf0ca",
   "metadata": {},
   "outputs": [
    {
     "data": {
      "text/plain": [
       "[20, 10, 100, 30]"
      ]
     },
     "execution_count": 41,
     "metadata": {},
     "output_type": "execute_result"
    }
   ],
   "source": [
    "mylist"
   ]
  },
  {
   "cell_type": "code",
   "execution_count": 43,
   "id": "ac879529",
   "metadata": {},
   "outputs": [
    {
     "data": {
      "text/plain": [
       "458"
      ]
     },
     "execution_count": 43,
     "metadata": {},
     "output_type": "execute_result"
    }
   ],
   "source": [
    "from random import randint\n",
    "randint(0,1000)"
   ]
  },
  {
   "cell_type": "code",
   "execution_count": 44,
   "id": "b669aea6",
   "metadata": {},
   "outputs": [
    {
     "name": "stdout",
     "output_type": "stream",
     "text": [
      "DOB240576\n"
     ]
    }
   ],
   "source": [
    "myresult = int(input(\"DOB\"))"
   ]
  },
  {
   "cell_type": "code",
   "execution_count": 45,
   "id": "b7a81b4a",
   "metadata": {},
   "outputs": [
    {
     "data": {
      "text/plain": [
       "240576"
      ]
     },
     "execution_count": 45,
     "metadata": {},
     "output_type": "execute_result"
    }
   ],
   "source": [
    "myresult"
   ]
  },
  {
   "cell_type": "code",
   "execution_count": 48,
   "id": "3bb61594",
   "metadata": {},
   "outputs": [
    {
     "data": {
      "text/plain": [
       "['h', 'e', 'l', 'l', 'o']"
      ]
     },
     "execution_count": 48,
     "metadata": {},
     "output_type": "execute_result"
    }
   ],
   "source": [
    "# List comprehension\n",
    "str1 = 'hello'\n",
    "\n",
    "lst_str1 = []\n",
    "for temp_str in str1:\n",
    "    lst_str1.append(temp_str)\n",
    "    \n",
    "lst_str1"
   ]
  },
  {
   "cell_type": "code",
   "execution_count": 49,
   "id": "d7b3b152",
   "metadata": {},
   "outputs": [],
   "source": [
    "lst_str2 = [temp_str1 for temp_str1 in str1]"
   ]
  },
  {
   "cell_type": "code",
   "execution_count": 50,
   "id": "2299c2aa",
   "metadata": {},
   "outputs": [
    {
     "data": {
      "text/plain": [
       "['h', 'e', 'l', 'l', 'o']"
      ]
     },
     "execution_count": 50,
     "metadata": {},
     "output_type": "execute_result"
    }
   ],
   "source": [
    "lst_str2"
   ]
  },
  {
   "cell_type": "code",
   "execution_count": 51,
   "id": "1ee3c3dc",
   "metadata": {},
   "outputs": [
    {
     "data": {
      "text/plain": [
       "[0, 1, 2, 3, 4, 5, 6, 7, 8, 9, 10]"
      ]
     },
     "execution_count": 51,
     "metadata": {},
     "output_type": "execute_result"
    }
   ],
   "source": [
    "num_lst1 = [num for num in range(0,11)]\n",
    "num_lst1"
   ]
  },
  {
   "cell_type": "code",
   "execution_count": 53,
   "id": "bdde281c",
   "metadata": {},
   "outputs": [
    {
     "data": {
      "text/plain": [
       "[0, 1, 4, 9, 16, 25]"
      ]
     },
     "execution_count": 53,
     "metadata": {},
     "output_type": "execute_result"
    }
   ],
   "source": [
    "num_lst2 = [num1**2 for num1 in range(0,6)]\n",
    "num_lst2"
   ]
  },
  {
   "cell_type": "code",
   "execution_count": 56,
   "id": "e64c16e7",
   "metadata": {},
   "outputs": [
    {
     "data": {
      "text/plain": [
       "[0, 2, 4, 6, 8, 10]"
      ]
     },
     "execution_count": 56,
     "metadata": {},
     "output_type": "execute_result"
    }
   ],
   "source": [
    "num_lst3 = [num2 for num2 in range(0,11) if num2%2==0]\n",
    "num_lst3"
   ]
  },
  {
   "cell_type": "code",
   "execution_count": 58,
   "id": "c2cbdbbc",
   "metadata": {},
   "outputs": [
    {
     "data": {
      "text/plain": [
       "[62.6, 78.80000000000001, 100.4, 116.60000000000001, 123.8]"
      ]
     },
     "execution_count": 58,
     "metadata": {},
     "output_type": "execute_result"
    }
   ],
   "source": [
    "celsius = [17,26,38,47,51]\n",
    "\n",
    "fahrenheit = [(9/5*cel_temp + 32) for cel_temp in celsius ]\n",
    "fahrenheit"
   ]
  },
  {
   "cell_type": "code",
   "execution_count": 59,
   "id": "b6d84247",
   "metadata": {},
   "outputs": [
    {
     "data": {
      "text/plain": [
       "[0, 'ODD', 2, 'ODD', 4, 'ODD', 6, 'ODD', 8, 'ODD', 10]"
      ]
     },
     "execution_count": 59,
     "metadata": {},
     "output_type": "execute_result"
    }
   ],
   "source": [
    "num_lst4 = [x if x%2==0 else 'ODD' for x in range(0,11)]\n",
    "num_lst4"
   ]
  },
  {
   "cell_type": "code",
   "execution_count": 60,
   "id": "fb637ad5",
   "metadata": {},
   "outputs": [
    {
     "ename": "SyntaxError",
     "evalue": "invalid syntax (<ipython-input-60-191ac4380b4d>, line 1)",
     "output_type": "error",
     "traceback": [
      "\u001b[1;36m  File \u001b[1;32m\"<ipython-input-60-191ac4380b4d>\"\u001b[1;36m, line \u001b[1;32m1\u001b[0m\n\u001b[1;33m    num_lst4 = [x for x in range(0,11) if x%2==0 else 'ODD']\u001b[0m\n\u001b[1;37m                                                 ^\u001b[0m\n\u001b[1;31mSyntaxError\u001b[0m\u001b[1;31m:\u001b[0m invalid syntax\n"
     ]
    }
   ],
   "source": [
    "num_lst4 = [x for x in range(0,11) if x%2==0 else 'ODD']\n",
    "num_lst4"
   ]
  },
  {
   "cell_type": "code",
   "execution_count": 61,
   "id": "4e6d5676",
   "metadata": {},
   "outputs": [
    {
     "data": {
      "text/plain": [
       "[1, 10, 100, 2, 20, 200, 3, 30, 300]"
      ]
     },
     "execution_count": 61,
     "metadata": {},
     "output_type": "execute_result"
    }
   ],
   "source": [
    "# nested loops\n",
    "nst_lst = []\n",
    "\n",
    "for x in (1,2,3):\n",
    "    for y in (1,10,100):\n",
    "        nst_lst.append(x*y)\n",
    "        \n",
    "nst_lst"
   ]
  },
  {
   "cell_type": "code",
   "execution_count": null,
   "id": "2823f11f",
   "metadata": {},
   "outputs": [],
   "source": []
  }
 ],
 "metadata": {
  "kernelspec": {
   "display_name": "Python 3",
   "language": "python",
   "name": "python3"
  },
  "language_info": {
   "codemirror_mode": {
    "name": "ipython",
    "version": 3
   },
   "file_extension": ".py",
   "mimetype": "text/x-python",
   "name": "python",
   "nbconvert_exporter": "python",
   "pygments_lexer": "ipython3",
   "version": "3.8.8"
  }
 },
 "nbformat": 4,
 "nbformat_minor": 5
}
