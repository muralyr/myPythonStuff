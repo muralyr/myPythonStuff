{
 "cells": [
  {
   "cell_type": "code",
   "execution_count": 1,
   "id": "1c820cce",
   "metadata": {},
   "outputs": [],
   "source": [
    "# Numbers : Two type of numer formats. int and float. int represents whole numbers with sign. float represent decimal values.\n",
    "# Strimgs : Ordered Sequence of characters. Supports indeximg. Immutable.\n",
    "# Lists : Ordered sequece of collection of objects. Supports indexing and slicing. Mutable. Represented by []. Some of the methods are pop()\n",
    "# Tuples : Imuutable list. Very limited methods. E.g calendar\n",
    "# Dictionaries : Key value pair. Unordered as values are fetched by keys. Mutable. Some of the methods are keys(), values() which returns lists. Represented by {'key':'values'}. Keys is always a string\n",
    "# set() : Unordered unique values."
   ]
  },
  {
   "cell_type": "code",
   "execution_count": 11,
   "id": "899a729e",
   "metadata": {},
   "outputs": [
    {
     "data": {
      "text/plain": [
       "100.25"
      ]
     },
     "execution_count": 11,
     "metadata": {},
     "output_type": "execute_result"
    }
   ],
   "source": [
    "5 * 21 / 2 + 7**2 - 1.25"
   ]
  },
  {
   "cell_type": "code",
   "execution_count": 14,
   "id": "570b652a",
   "metadata": {},
   "outputs": [
    {
     "data": {
      "text/plain": [
       "52"
      ]
     },
     "execution_count": 14,
     "metadata": {},
     "output_type": "execute_result"
    }
   ],
   "source": [
    "105//2"
   ]
  },
  {
   "cell_type": "code",
   "execution_count": 15,
   "id": "a3a332f6",
   "metadata": {},
   "outputs": [],
   "source": [
    "# What is the value of the expression 4 * (6 + 5) = 44\n",
    "# What is the value of the expression 4 * 6 + 5  = 29\n",
    "# What is the value of the expression 4 + 6 * 5 = 34"
   ]
  },
  {
   "cell_type": "code",
   "execution_count": 22,
   "id": "d2c505dd",
   "metadata": {},
   "outputs": [
    {
     "name": "stdout",
     "output_type": "stream",
     "text": [
      "4 + 6 * 5 = 44 & 4 * 6 + 5 = 29 & 4 + 6 * 5 = 34\n"
     ]
    }
   ],
   "source": [
    "a = 4 * (6 + 5)\n",
    "b = 4 * 6 + 5\n",
    "c = 4 + 6 * 5\n",
    "print ('4 + 6 * 5 = {a1} & 4 * 6 + 5 = {b1} & 4 + 6 * 5 = {c1}'.format(a1=a, b1=b, c1=c))\n"
   ]
  },
  {
   "cell_type": "code",
   "execution_count": 23,
   "id": "64998c8f",
   "metadata": {},
   "outputs": [
    {
     "data": {
      "text/plain": [
       "float"
      ]
     },
     "execution_count": 23,
     "metadata": {},
     "output_type": "execute_result"
    }
   ],
   "source": [
    "# What is the type of the result of the expression 3 + 1.5 + 4? = float\n",
    "type(3 + 1.5 + 4)"
   ]
  },
  {
   "cell_type": "code",
   "execution_count": 24,
   "id": "8de44048",
   "metadata": {},
   "outputs": [],
   "source": [
    "# Square: **\n",
    "# Square root : **0.5"
   ]
  },
  {
   "cell_type": "code",
   "execution_count": 25,
   "id": "bed1d5b6",
   "metadata": {},
   "outputs": [
    {
     "data": {
      "text/plain": [
       "'e'"
      ]
     },
     "execution_count": 25,
     "metadata": {},
     "output_type": "execute_result"
    }
   ],
   "source": [
    "s = 'hello'\n",
    "# Print out 'e' using indexing\n",
    "s[1]"
   ]
  },
  {
   "cell_type": "code",
   "execution_count": 26,
   "id": "62a73f7a",
   "metadata": {},
   "outputs": [
    {
     "data": {
      "text/plain": [
       "'olleh'"
      ]
     },
     "execution_count": 26,
     "metadata": {},
     "output_type": "execute_result"
    }
   ],
   "source": [
    "s ='hello'\n",
    "# Reverse the string using slicing\n",
    "s[::-1]"
   ]
  },
  {
   "cell_type": "code",
   "execution_count": 27,
   "id": "a50a0555",
   "metadata": {},
   "outputs": [
    {
     "data": {
      "text/plain": [
       "'o'"
      ]
     },
     "execution_count": 27,
     "metadata": {},
     "output_type": "execute_result"
    }
   ],
   "source": [
    "s ='hello'\n",
    "# Print out the 'o'\n",
    "\n",
    "# Method 1:\n",
    "s[-1]"
   ]
  },
  {
   "cell_type": "code",
   "execution_count": 28,
   "id": "6f09f710",
   "metadata": {},
   "outputs": [
    {
     "data": {
      "text/plain": [
       "'o'"
      ]
     },
     "execution_count": 28,
     "metadata": {},
     "output_type": "execute_result"
    }
   ],
   "source": [
    "# Method 2:\n",
    "s[4]"
   ]
  },
  {
   "cell_type": "code",
   "execution_count": 33,
   "id": "27ec9305",
   "metadata": {},
   "outputs": [
    {
     "name": "stdout",
     "output_type": "stream",
     "text": [
      "[0, 0, 0]\n",
      "[0, 0, 0]\n"
     ]
    }
   ],
   "source": [
    "# Build this list [0,0,0] two separate ways.\n",
    "l = [0,0,0]\n",
    "print(l)\n",
    "l1 = []\n",
    "l1.append(0)\n",
    "l1.append(0)\n",
    "l1.append(0)\n",
    "print(l1)"
   ]
  },
  {
   "cell_type": "code",
   "execution_count": 34,
   "id": "166fd8ea",
   "metadata": {},
   "outputs": [
    {
     "data": {
      "text/plain": [
       "[1, 2, [3, 4, 'goodbye']]"
      ]
     },
     "execution_count": 34,
     "metadata": {},
     "output_type": "execute_result"
    }
   ],
   "source": [
    "list3 =[1,2,[3,4,'hello']]\n",
    "# Reassign 'hello' in this nested list to say 'goodbye' instead:\n",
    "list3[2][2]='goodbye'\n",
    "list3"
   ]
  },
  {
   "cell_type": "code",
   "execution_count": 36,
   "id": "0540ce16",
   "metadata": {},
   "outputs": [
    {
     "data": {
      "text/plain": [
       "[1, 3, 4, 5, 6]"
      ]
     },
     "execution_count": 36,
     "metadata": {},
     "output_type": "execute_result"
    }
   ],
   "source": [
    "list4 = [5,3,4,6,1]\n",
    "# Sort the list below\n",
    "list4.sort()\n",
    "list4"
   ]
  },
  {
   "cell_type": "code",
   "execution_count": 37,
   "id": "1a8c13ac",
   "metadata": {},
   "outputs": [
    {
     "data": {
      "text/plain": [
       "'hello'"
      ]
     },
     "execution_count": 37,
     "metadata": {},
     "output_type": "execute_result"
    }
   ],
   "source": [
    "d = {'simple_key':'hello'}\n",
    "# Grab 'hello'\n",
    "d['simple_key']"
   ]
  },
  {
   "cell_type": "code",
   "execution_count": 38,
   "id": "efc30bf8",
   "metadata": {},
   "outputs": [
    {
     "data": {
      "text/plain": [
       "'hello'"
      ]
     },
     "execution_count": 38,
     "metadata": {},
     "output_type": "execute_result"
    }
   ],
   "source": [
    "\n",
    "d = {'k1':{'k2':'hello'}}\n",
    "# Grab 'hello'\n",
    "d['k1']['k2']"
   ]
  },
  {
   "cell_type": "code",
   "execution_count": 46,
   "id": "d7ac9ad6",
   "metadata": {},
   "outputs": [
    {
     "data": {
      "text/plain": [
       "'hello'"
      ]
     },
     "execution_count": 46,
     "metadata": {},
     "output_type": "execute_result"
    }
   ],
   "source": [
    "d = {'k1':[{'nest_key':['this is deep',['hello']]}]}\n",
    "\n",
    "#Grab hello\n",
    "d['k1'][0]['nest_key'][1][0]"
   ]
  },
  {
   "cell_type": "code",
   "execution_count": 52,
   "id": "3a31c0dd",
   "metadata": {},
   "outputs": [
    {
     "data": {
      "text/plain": [
       "'hello'"
      ]
     },
     "execution_count": 52,
     "metadata": {},
     "output_type": "execute_result"
    }
   ],
   "source": [
    "# This will be hard and annoying!\n",
    "d = {'k1':[1,2,{'k2':['this is tricky',{'tough':[1,2,['hello']]}]}]}\n",
    "d['k1'][2]['k2'][1]['tough'][2][0]"
   ]
  },
  {
   "cell_type": "code",
   "execution_count": 53,
   "id": "83380745",
   "metadata": {},
   "outputs": [],
   "source": [
    "# Can you sort a dictionary? Why or why not?\n",
    "# No, because it unordered and uses key to return values"
   ]
  },
  {
   "cell_type": "code",
   "execution_count": 54,
   "id": "41fe92a4",
   "metadata": {},
   "outputs": [
    {
     "data": {
      "text/plain": [
       "tuple"
      ]
     },
     "execution_count": 54,
     "metadata": {},
     "output_type": "execute_result"
    }
   ],
   "source": [
    "# What is the major difference between tuples and lists?\n",
    "# Tuples are immutable while lists are\n",
    "# How do you create a tuple?\n",
    "t = (1,2,2,3)\n",
    "type(t)"
   ]
  },
  {
   "cell_type": "code",
   "execution_count": 55,
   "id": "6fd13b32",
   "metadata": {},
   "outputs": [
    {
     "data": {
      "text/plain": [
       "{1, 2, 3, 4, 11, 22, 33}"
      ]
     },
     "execution_count": 55,
     "metadata": {},
     "output_type": "execute_result"
    }
   ],
   "source": [
    "# What is unique about a set?\n",
    "# Unique unordered collection of objects\n",
    "\n",
    "#Use a set to find the unique values of the list below:\n",
    "list5 = [1,2,2,33,4,4,11,22,3,3,2]\n",
    "s = set(list5)\n",
    "s"
   ]
  },
  {
   "cell_type": "code",
   "execution_count": 56,
   "id": "1e97b3d9",
   "metadata": {},
   "outputs": [
    {
     "data": {
      "text/plain": [
       "False"
      ]
     },
     "execution_count": 56,
     "metadata": {},
     "output_type": "execute_result"
    }
   ],
   "source": [
    "# Answer before running cell\n",
    "2 > 3\n",
    "# False\n",
    "3 <= 2\n",
    "# True\n",
    "3 == 2.0\n",
    "# False\n",
    "3.0 == 3\n",
    "# True\n",
    "4**0.5 != 2\n",
    "# False\n"
   ]
  },
  {
   "cell_type": "code",
   "execution_count": 57,
   "id": "a6bd502c",
   "metadata": {},
   "outputs": [
    {
     "data": {
      "text/plain": [
       "False"
      ]
     },
     "execution_count": 57,
     "metadata": {},
     "output_type": "execute_result"
    }
   ],
   "source": [
    "\n",
    "# two nested lists\n",
    "l_one = [1,2,[3,4]]\n",
    "l_two = [1,2,{'k1':4}]\n",
    "\n",
    "# True or False?\n",
    "l_one[2][0] >= l_two[2]['k1']\n",
    "3 >= 4\n",
    "# False"
   ]
  },
  {
   "cell_type": "code",
   "execution_count": null,
   "id": "9824e8a3",
   "metadata": {},
   "outputs": [],
   "source": []
  }
 ],
 "metadata": {
  "kernelspec": {
   "display_name": "Python 3",
   "language": "python",
   "name": "python3"
  },
  "language_info": {
   "codemirror_mode": {
    "name": "ipython",
    "version": 3
   },
   "file_extension": ".py",
   "mimetype": "text/x-python",
   "name": "python",
   "nbconvert_exporter": "python",
   "pygments_lexer": "ipython3",
   "version": "3.8.8"
  }
 },
 "nbformat": 4,
 "nbformat_minor": 5
}
