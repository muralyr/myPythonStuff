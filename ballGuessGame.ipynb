{
 "cells": [
  {
   "cell_type": "code",
   "execution_count": 1,
   "id": "6bdca28b",
   "metadata": {},
   "outputs": [],
   "source": [
    "# own version of shuffle \n",
    "\n",
    "from random import shuffle\n",
    "\n",
    "def shuffle_list(mylist):\n",
    "    shuffle(mylist)\n",
    "    return mylist"
   ]
  },
  {
   "cell_type": "code",
   "execution_count": 2,
   "id": "2c1e7255",
   "metadata": {},
   "outputs": [],
   "source": [
    "# Get user input\n",
    "\n",
    "def user_input():\n",
    "    \n",
    "    choice = ''\n",
    "    \n",
    "    while choice not in ['1','2','3']:\n",
    "        choice = input('Provide your choice [1,2,3]')\n",
    "        \n",
    "    return int(choice)\n"
   ]
  },
  {
   "cell_type": "code",
   "execution_count": 3,
   "id": "ab2ae1fa",
   "metadata": {},
   "outputs": [
    {
     "name": "stdout",
     "output_type": "stream",
     "text": [
      "Provide your choice [1,2,3]1\n"
     ]
    },
    {
     "data": {
      "text/plain": [
       "1"
      ]
     },
     "execution_count": 3,
     "metadata": {},
     "output_type": "execute_result"
    }
   ],
   "source": [
    "user_input()"
   ]
  },
  {
   "cell_type": "code",
   "execution_count": 5,
   "id": "a18fcb07",
   "metadata": {},
   "outputs": [
    {
     "name": "stdout",
     "output_type": "stream",
     "text": [
      "Provide your choice [1,2,3]1\n",
      "B luck next time!\n"
     ]
    }
   ],
   "source": [
    "# integration of functions\n",
    "\n",
    "def make_your_guess(in_list, index):\n",
    "    if in_list[index-1] == 'O':\n",
    "        print('Winner!!!')\n",
    "    else:\n",
    "        print('B luck next time!')\n",
    "\n",
    "cup_list = [' ', 'O', '']\n",
    "ball_list = shuffle_list(cup_list)\n",
    "whereisit = user_input()\n",
    "make_your_guess(ball_list,whereisit)"
   ]
  },
  {
   "cell_type": "markdown",
   "id": "f5c8d3ae",
   "metadata": {},
   "source": []
  },
  {
   "cell_type": "code",
   "execution_count": null,
   "id": "fa76b24e",
   "metadata": {},
   "outputs": [],
   "source": []
  }
 ],
 "metadata": {
  "kernelspec": {
   "display_name": "Python 3",
   "language": "python",
   "name": "python3"
  },
  "language_info": {
   "codemirror_mode": {
    "name": "ipython",
    "version": 3
   },
   "file_extension": ".py",
   "mimetype": "text/x-python",
   "name": "python",
   "nbconvert_exporter": "python",
   "pygments_lexer": "ipython3",
   "version": "3.8.8"
  }
 },
 "nbformat": 4,
 "nbformat_minor": 5
}
