{
 "cells": [
  {
   "cell_type": "code",
   "execution_count": 4,
   "id": "f96a2ba1",
   "metadata": {},
   "outputs": [
    {
     "name": "stdout",
     "output_type": "stream",
     "text": [
      "The word stars with \"s\" is : start\n",
      "The word stars with \"s\" is : s\n",
      "The word stars with \"s\" is : sentence\n"
     ]
    }
   ],
   "source": [
    "# Use for, .split(), and if to create a Statement that will print out words that start with 's':\n",
    "\n",
    "st = 'Print only the words that start with s in this sentence'\n",
    "\n",
    "lst_st = st.split()\n",
    "for word in lst_st:\n",
    "    if word.startswith('s'):\n",
    "        print('The word stars with \"s\" is : {}'.format(word))"
   ]
  },
  {
   "cell_type": "code",
   "execution_count": 7,
   "id": "b43d6317",
   "metadata": {},
   "outputs": [
    {
     "name": "stdout",
     "output_type": "stream",
     "text": [
      "Even numbers are : 0\n",
      "Even numbers are : 2\n",
      "Even numbers are : 4\n",
      "Even numbers are : 6\n",
      "Even numbers are : 8\n",
      "Even numbers are : 10\n"
     ]
    }
   ],
   "source": [
    "# Use range() to print all the even numbers from 0 to 10.\n",
    "\n",
    "for num in range(0,11):\n",
    "    if num%2==0:\n",
    "        print(f'Even numbers are : {num}')"
   ]
  },
  {
   "cell_type": "code",
   "execution_count": 8,
   "id": "a3593c5a",
   "metadata": {},
   "outputs": [
    {
     "data": {
      "text/plain": [
       "[0, 3, 6, 9, 12, 15, 18, 21, 24, 27, 30, 33, 36, 39, 42, 45, 48]"
      ]
     },
     "execution_count": 8,
     "metadata": {},
     "output_type": "execute_result"
    }
   ],
   "source": [
    "# Use a List Comprehension to create a list of all numbers between 1 and 50 that are divisible by 3\n",
    "\n",
    "odd_lst = [odd for odd in range(0,50) if odd%3 == 0]\n",
    "odd_lst"
   ]
  },
  {
   "cell_type": "code",
   "execution_count": 11,
   "id": "6cea0e1b",
   "metadata": {},
   "outputs": [
    {
     "name": "stdout",
     "output_type": "stream",
     "text": [
      "Even letter word is : word\n",
      "Even letter word is : in\n",
      "Even letter word is : this\n",
      "Even letter word is : sentence\n",
      "Even letter word is : that\n",
      "Even letter word is : an\n",
      "Even letter word is : even\n",
      "Even letter word is : number\n",
      "Even letter word is : of\n"
     ]
    }
   ],
   "source": [
    "# Go through the string below and if the length of a word is even print \"even!\"\n",
    "\n",
    "st = 'Print every word in this sentence that has an even number of letters'\n",
    "\n",
    "st_lst = st.split()\n",
    "for word in st_lst:\n",
    "    if len(word)%2 == 0:\n",
    "        print(f'Even letter word is : {word}')\n",
    "              "
   ]
  },
  {
   "cell_type": "code",
   "execution_count": 16,
   "id": "00113999",
   "metadata": {},
   "outputs": [
    {
     "name": "stdout",
     "output_type": "stream",
     "text": [
      "FizzBuzz numer is : 0\n",
      "Number is : 1\n",
      "Number is : 2\n",
      "Fizz number is : 3\n",
      "Number is : 4\n",
      "Buzz number is : 5\n",
      "Fizz number is : 6\n",
      "Number is : 7\n",
      "Number is : 8\n",
      "Fizz number is : 9\n",
      "Buzz number is : 10\n",
      "Number is : 11\n",
      "Fizz number is : 12\n",
      "Number is : 13\n",
      "Number is : 14\n",
      "FizzBuzz numer is : 15\n",
      "Number is : 16\n",
      "Number is : 17\n",
      "Fizz number is : 18\n",
      "Number is : 19\n",
      "Buzz number is : 20\n",
      "Fizz number is : 21\n",
      "Number is : 22\n",
      "Number is : 23\n",
      "Fizz number is : 24\n",
      "Buzz number is : 25\n",
      "Number is : 26\n",
      "Fizz number is : 27\n",
      "Number is : 28\n",
      "Number is : 29\n",
      "FizzBuzz numer is : 30\n",
      "Number is : 31\n",
      "Number is : 32\n",
      "Fizz number is : 33\n",
      "Number is : 34\n",
      "Buzz number is : 35\n",
      "Fizz number is : 36\n",
      "Number is : 37\n",
      "Number is : 38\n",
      "Fizz number is : 39\n",
      "Buzz number is : 40\n",
      "Number is : 41\n",
      "Fizz number is : 42\n",
      "Number is : 43\n",
      "Number is : 44\n",
      "FizzBuzz numer is : 45\n",
      "Number is : 46\n",
      "Number is : 47\n",
      "Fizz number is : 48\n",
      "Number is : 49\n",
      "Buzz number is : 50\n",
      "Fizz number is : 51\n",
      "Number is : 52\n",
      "Number is : 53\n",
      "Fizz number is : 54\n",
      "Buzz number is : 55\n",
      "Number is : 56\n",
      "Fizz number is : 57\n",
      "Number is : 58\n",
      "Number is : 59\n",
      "FizzBuzz numer is : 60\n",
      "Number is : 61\n",
      "Number is : 62\n",
      "Fizz number is : 63\n",
      "Number is : 64\n",
      "Buzz number is : 65\n",
      "Fizz number is : 66\n",
      "Number is : 67\n",
      "Number is : 68\n",
      "Fizz number is : 69\n",
      "Buzz number is : 70\n",
      "Number is : 71\n",
      "Fizz number is : 72\n",
      "Number is : 73\n",
      "Number is : 74\n",
      "FizzBuzz numer is : 75\n",
      "Number is : 76\n",
      "Number is : 77\n",
      "Fizz number is : 78\n",
      "Number is : 79\n",
      "Buzz number is : 80\n",
      "Fizz number is : 81\n",
      "Number is : 82\n",
      "Number is : 83\n",
      "Fizz number is : 84\n",
      "Buzz number is : 85\n",
      "Number is : 86\n",
      "Fizz number is : 87\n",
      "Number is : 88\n",
      "Number is : 89\n",
      "FizzBuzz numer is : 90\n",
      "Number is : 91\n",
      "Number is : 92\n",
      "Fizz number is : 93\n",
      "Number is : 94\n",
      "Buzz number is : 95\n",
      "Fizz number is : 96\n",
      "Number is : 97\n",
      "Number is : 98\n",
      "Fizz number is : 99\n",
      "Buzz number is : 100\n"
     ]
    }
   ],
   "source": [
    "# Write a program that prints the integers from 1 to 100. But for multiples of three print \"Fizz\" instead of the number, and \n",
    "# for the multiples of five print \"Buzz\". For numbers which are multiples of both three and five print \"FizzBuzz\".\n",
    "\n",
    "for num in range(0,101):\n",
    "    mult3 = num%3 == 0\n",
    "    mult5 = num%5 == 0\n",
    "    if mult3 and mult5:\n",
    "        print(f'FizzBuzz numer is : {num}')\n",
    "    elif mult3:\n",
    "        print (f'Fizz number is : {num}')\n",
    "    elif mult5:\n",
    "        print (f'Buzz number is : {num}')\n",
    "    else:\n",
    "        print (f'Number is : {num}')\n",
    "        \n"
   ]
  },
  {
   "cell_type": "code",
   "execution_count": 21,
   "id": "ca477dee",
   "metadata": {},
   "outputs": [
    {
     "data": {
      "text/plain": [
       "['C', 'a', 'l', 'o', 't', 'f', 'l', 'o', 'e', 'w', 'i', 't', 's']"
      ]
     },
     "execution_count": 21,
     "metadata": {},
     "output_type": "execute_result"
    }
   ],
   "source": [
    "# Use List Comprehension to create a list of the first letters of every word in the string below:\n",
    "\n",
    "st = 'Create a list of the first letters of every word in this string'\n",
    "lst_st = st.split()\n",
    "first_letter =[]\n",
    "for word in lst_st:\n",
    "    first_letter.append(word[0])\n",
    "    \n",
    "first_letter"
   ]
  },
  {
   "cell_type": "code",
   "execution_count": 22,
   "id": "adcee802",
   "metadata": {},
   "outputs": [
    {
     "data": {
      "text/plain": [
       "['C', 'a', 'l', 'o', 't', 'f', 'l', 'o', 'e', 'w', 'i', 't', 's']"
      ]
     },
     "execution_count": 22,
     "metadata": {},
     "output_type": "execute_result"
    }
   ],
   "source": [
    "first_letter1 = [word1[0] for word1 in lst_st]\n",
    "first_letter1"
   ]
  },
  {
   "cell_type": "code",
   "execution_count": null,
   "id": "c40ba8d5",
   "metadata": {},
   "outputs": [],
   "source": []
  }
 ],
 "metadata": {
  "kernelspec": {
   "display_name": "Python 3",
   "language": "python",
   "name": "python3"
  },
  "language_info": {
   "codemirror_mode": {
    "name": "ipython",
    "version": 3
   },
   "file_extension": ".py",
   "mimetype": "text/x-python",
   "name": "python",
   "nbconvert_exporter": "python",
   "pygments_lexer": "ipython3",
   "version": "3.8.8"
  }
 },
 "nbformat": 4,
 "nbformat_minor": 5
}
