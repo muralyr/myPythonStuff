{
 "cells": [
  {
   "cell_type": "code",
   "execution_count": 1,
   "id": "385edeb0",
   "metadata": {},
   "outputs": [],
   "source": [
    "def myfunc(a,b,c=0,d=0,e=0):\n",
    "    return sum((a,b,c,d,e)) * 0.05"
   ]
  },
  {
   "cell_type": "code",
   "execution_count": 2,
   "id": "7ebdf3ed",
   "metadata": {},
   "outputs": [
    {
     "data": {
      "text/plain": [
       "5.800000000000001"
      ]
     },
     "execution_count": 2,
     "metadata": {},
     "output_type": "execute_result"
    }
   ],
   "source": [
    "myfunc (40,76)"
   ]
  },
  {
   "cell_type": "code",
   "execution_count": 5,
   "id": "3dc3a3e2",
   "metadata": {},
   "outputs": [],
   "source": [
    "def myargs(*args):\n",
    "    print(args)\n",
    "    for num in args:\n",
    "        print (f'args list is :{num}')\n",
    "    return sum(args) * 0.05"
   ]
  },
  {
   "cell_type": "code",
   "execution_count": 6,
   "id": "40690757",
   "metadata": {},
   "outputs": [
    {
     "name": "stdout",
     "output_type": "stream",
     "text": [
      "(1, 2, 3, 4, 5, 6, 7, 8, 9)\n",
      "args list is :1\n",
      "args list is :2\n",
      "args list is :3\n",
      "args list is :4\n",
      "args list is :5\n",
      "args list is :6\n",
      "args list is :7\n",
      "args list is :8\n",
      "args list is :9\n"
     ]
    },
    {
     "data": {
      "text/plain": [
       "2.25"
      ]
     },
     "execution_count": 6,
     "metadata": {},
     "output_type": "execute_result"
    }
   ],
   "source": [
    "myargs(1,2,3,4,5,6,7,8,9)"
   ]
  },
  {
   "cell_type": "code",
   "execution_count": 7,
   "id": "a2afbc1a",
   "metadata": {},
   "outputs": [],
   "source": [
    "def mykwargs(**kwargs):\n",
    "    print(kwargs)\n",
    "    if 'fruit' in kwargs:\n",
    "        print(\"My fav fruit is {}\".format(kwargs['fruit']))\n",
    "    else:\n",
    "        print('Out of stock')"
   ]
  },
  {
   "cell_type": "code",
   "execution_count": 8,
   "id": "c5f8e26b",
   "metadata": {},
   "outputs": [
    {
     "name": "stdout",
     "output_type": "stream",
     "text": [
      "{'fruit': 'Grapes', 'veggie': 'Carrot'}\n",
      "My fav fruit is Grapes\n"
     ]
    }
   ],
   "source": [
    "mykwargs(fruit='Grapes',veggie='Carrot')"
   ]
  },
  {
   "cell_type": "code",
   "execution_count": 9,
   "id": "14983857",
   "metadata": {},
   "outputs": [],
   "source": [
    "def mycombiargs(*args,**kwargs):\n",
    "    print(args)\n",
    "    print(kwargs)\n",
    "    print('I would like have {} KG of {}'.format(args[0],kwargs['veggies']))\n",
    "    "
   ]
  },
  {
   "cell_type": "code",
   "execution_count": 10,
   "id": "9c2fcd06",
   "metadata": {},
   "outputs": [
    {
     "name": "stdout",
     "output_type": "stream",
     "text": [
      "(1, 2, 3, 4, 5)\n",
      "{'fruits': 'Apple', 'veggies': 'Cabbage', 'rice': 'Boiled'}\n",
      "I would like have 1 KG of Cabbage\n"
     ]
    }
   ],
   "source": [
    "mycombiargs(1,2,3,4,5,fruits='Apple',veggies='Cabbage',rice='Boiled')"
   ]
  },
  {
   "cell_type": "code",
   "execution_count": null,
   "id": "91bfb04f",
   "metadata": {},
   "outputs": [],
   "source": [
    "mylist=list()\n",
    "mylist."
   ]
  }
 ],
 "metadata": {
  "kernelspec": {
   "display_name": "Python 3",
   "language": "python",
   "name": "python3"
  },
  "language_info": {
   "codemirror_mode": {
    "name": "ipython",
    "version": 3
   },
   "file_extension": ".py",
   "mimetype": "text/x-python",
   "name": "python",
   "nbconvert_exporter": "python",
   "pygments_lexer": "ipython3",
   "version": "3.8.8"
  }
 },
 "nbformat": 4,
 "nbformat_minor": 5
}
